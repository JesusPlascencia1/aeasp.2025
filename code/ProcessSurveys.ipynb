{
 "cells": [
  {
   "cell_type": "code",
   "execution_count": 1,
   "id": "ec1b3254-b387-4bd4-95d0-16b37fccc88c",
   "metadata": {},
   "outputs": [],
   "source": [
    "import numpy as np\n",
    "import matplotlib.pyplot as plt\n",
    "import os"
   ]
  },
  {
   "cell_type": "code",
   "execution_count": 2,
   "id": "44e55a0e-4e61-4d49-bb0c-6b33754aca43",
   "metadata": {},
   "outputs": [],
   "source": [
    "# Get all filenames for survey\n",
    "survey_dir = \"../submissions/FirstDaySurvey/\"\n",
    "figure_dir = \"../media/\"\n",
    "my_survey = \"SurveyWhiteMN.txt\""
   ]
  },
  {
   "cell_type": "code",
   "execution_count": 3,
   "id": "08a3b187-803f-4c6e-9bfe-a1fc23ada004",
   "metadata": {},
   "outputs": [
    {
     "data": {
      "text/plain": [
       "['SurveyAbdiSM.txt',\n",
       " 'SurveyCHAUSSEELC.txt',\n",
       " 'SurveyDugasSL.txt',\n",
       " 'SurveyEtzelGC.txt',\n",
       " 'SurveyHAMMONDAK.txt',\n",
       " 'SurveyHussainY.txt',\n",
       " 'SurveyJohnsonLS.txt',\n",
       " 'SurveyJOSHUAJM.txt',\n",
       " 'SurveyKhanS.txt',\n",
       " 'SurveyMALDONADOAJ.txt',\n",
       " 'SurveyMCBROOMAB.txt',\n",
       " 'SurveyMeyerSJ.txt',\n",
       " 'SurveyNUTIH.txt',\n",
       " 'SurveyOkonAO.txt',\n",
       " 'SurveyOuslanAM.txt',\n",
       " 'SurveyPlascenciaJ.txt',\n",
       " 'SurveyPremaratneD.txt',\n",
       " 'SurveyRiveraJA.txt',\n",
       " 'SurveyRouseTO.txt',\n",
       " 'SurveyRuizKO.txt',\n",
       " 'SurveyShaposhnikovSN.txt',\n",
       " 'SurveyWhiteMN.txt',\n",
       " 'SurveyYANGA.txt']"
      ]
     },
     "execution_count": 3,
     "metadata": {},
     "output_type": "execute_result"
    }
   ],
   "source": [
    "filenames = os.listdir(survey_dir)\n",
    "filenames"
   ]
  },
  {
   "cell_type": "code",
   "execution_count": 4,
   "id": "4559d88f-70ed-4ea1-8e1b-8da30c1c1bfc",
   "metadata": {},
   "outputs": [
    {
     "name": "stdout",
     "output_type": "stream",
     "text": [
      "C / C++ : 4\n",
      "ChatGPT: 4\n",
      "Claude : 4\n",
      "Economics : 8\n",
      "Fortran : 3\n",
      "git : 7\n",
      "GitHub : 7\n",
      "Grok : 3\n",
      "Julia : 3\n",
      "Jupyter : 7\n",
      "LaTeX : 7\n",
      "Litmaps: 3\n",
      "Markdown : 6\n",
      "Matlab : 5\n",
      "Overleaf: 6\n",
      "PaperPile : 3\n",
      "Python : 7\n",
      "R : 3\n",
      "SAS : 3\n",
      "Stata : 6\n",
      "The Simpsons : 5\n",
      "Zenodo : 4\n",
      "\n",
      "['C / C++ : 4', 'ChatGPT: 4', 'Claude : 4', 'Economics : 8', 'Fortran : 3', 'git : 7', 'GitHub : 7', 'Grok : 3', 'Julia : 3', 'Jupyter : 7', 'LaTeX : 7', 'Litmaps: 3', 'Markdown : 6', 'Matlab : 5', 'Overleaf: 6', 'PaperPile : 3', 'Python : 7', 'R : 3', 'SAS : 3', 'Stata : 6', 'The Simpsons : 5', 'Zenodo : 4']\n"
     ]
    }
   ],
   "source": [
    "# Open my survey and get the names of the things\n",
    "with open(survey_dir + my_survey, \"r\") as f:\n",
    "    my_text = f.read()\n",
    "    f.close()\n",
    "    \n",
    "# Look for where the data starts\n",
    "idx = my_text.find(\"THING : VALUE\")\n",
    "\n",
    "# Skip 15 characters to go past that header and the blank line\n",
    "idx += 15\n",
    "\n",
    "# Make a shorter string with only the stuff past idx\n",
    "my_short_text = my_text[idx:]\n",
    "print(my_short_text)\n",
    "\n",
    "# Make a list of the lines below that\n",
    "my_split_text = my_short_text.splitlines()\n",
    "print(my_split_text)"
   ]
  },
  {
   "cell_type": "code",
   "execution_count": 5,
   "id": "c9561bac-d6de-4125-a662-ea5c708edf89",
   "metadata": {},
   "outputs": [],
   "source": [
    "# Loop over each line and extract the name of the thing\n",
    "names_of_things = [] # initialize and empty list\n",
    "N_things = len(my_split_text) # number of items\n",
    "for n in range(N_things):\n",
    "    this_line = my_split_text[n] # get the n-th item\n",
    "    idx = this_line.find(\":\") # look for the colon\n",
    "    name = this_line[:idx] # take what's before the colon\n",
    "    stripped_name = name.strip() # remove any extra spaces on either end\n",
    "    names_of_things.append(stripped_name)"
   ]
  },
  {
   "cell_type": "code",
   "execution_count": 6,
   "id": "081c950b-dbac-4316-be68-cb3ee312c7ba",
   "metadata": {},
   "outputs": [],
   "source": [
    "# Define a function that takes a single data line and returns the number\n",
    "def get_number_from_dataline(line):\n",
    "    i = line.find(\":\") + 1\n",
    "    num = int(line[i:])\n",
    "    return num"
   ]
  },
  {
   "cell_type": "code",
   "execution_count": 7,
   "id": "54e64ff7-ad29-4ac8-8e99-64ea02cf8799",
   "metadata": {},
   "outputs": [],
   "source": [
    "# Define a function that gets all of the numbers from someone's survey data\n",
    "def get_numbers_from_survey_data(survey_lines):\n",
    "    N = len(survey_lines)\n",
    "    values = np.empty(N) # initialize an empty array\n",
    "    for n in range(N):\n",
    "        try:\n",
    "            val = get_number_from_dataline(survey_lines[n])\n",
    "        except:\n",
    "            val = np.nan # fallback\n",
    "        values[n] = val # put it in our array\n",
    "    return values"
   ]
  },
  {
   "cell_type": "code",
   "execution_count": 8,
   "id": "8b461145-b5b1-46ff-bbe5-7ce79d6b4b5e",
   "metadata": {},
   "outputs": [],
   "source": [
    "# Define a function that reproduces the steps above to make a list of survey data lines\n",
    "def get_survey_data_from_file(filepath):\n",
    "    with open(filepath, 'r') as f:\n",
    "        my_text = f.read()\n",
    "        f.close()\n",
    "    idx = my_text.find(\"THING : VALUE\") + 15 # Where the data should start\n",
    "    split_text = my_text[idx:].splitlines()\n",
    "    return split_text\n",
    "\n",
    "# Define a function that puts it all together, extracting survey numbers given a filepath\n",
    "def get_numbers_from_file(filepath):\n",
    "    these_survey_lines = get_survey_data_from_file(filepath)\n",
    "    these_values = get_numbers_from_survey_data(these_survey_lines)\n",
    "    return these_values\n",
    "\n",
    "mnw_survey_data = get_numbers_from_file(survey_dir + my_survey)"
   ]
  },
  {
   "cell_type": "code",
   "execution_count": 9,
   "id": "98c1bdde-e320-449f-b31f-8100251ae0f2",
   "metadata": {},
   "outputs": [],
   "source": [
    "# Define a function that makes a 2D array of survey information, one student per row\n",
    "def get_numbers_from_all_students(file_list):\n",
    "    N_surveys = len(file_list)\n",
    "    all_students_data = np.empty((N_surveys-1, N_things)) # initialize survey data array\n",
    "    i = 0\n",
    "    \n",
    "    # Loop over surveys\n",
    "    for filename in file_list:\n",
    "        if filename == my_survey:\n",
    "            continue # skip this file if it's MNW's!\n",
    "        this_filepath = survey_dir + filename\n",
    "        this_row_data = get_numbers_from_file(this_filepath)\n",
    "        all_students_data[i,:] = this_row_data # put it in the 2D array\n",
    "        i += 1 # increment the row counter\n",
    "    \n",
    "    return all_students_data"
   ]
  },
  {
   "cell_type": "code",
   "execution_count": 10,
   "id": "185b1c4a-2b88-4699-8ea4-6294a91c1c83",
   "metadata": {},
   "outputs": [],
   "source": [
    "# Define a function that produces a histogram of responses for one thing\n",
    "def make_histogram_for(name, thing_names, survey_data, my_survey, fig_file=None):\n",
    "    try:\n",
    "        n = thing_names.index(name) # get column number\n",
    "    except:\n",
    "        raise ValueError(\"Thing called \" + name + \" isn't in the list of names!\")\n",
    "    \n",
    "    # Get the column data for the thing and relabel NaNs as zeros\n",
    "    this_col = survey_data[:,n]\n",
    "    this_col[np.isnan(this_col)] = 0.0\n",
    "    this_col = this_col.astype(int) # convert data to integers\n",
    "    \n",
    "    # Get counts of each response\n",
    "    counts = np.zeros(10)\n",
    "    for j in range(this_col.size): # for each student...\n",
    "        v = this_col[j] # ...get their response...\n",
    "        counts[v] += 1 # ...and add one to the appropriate count\n",
    "        \n",
    "    # Make a histogram plot with blue bars for students\n",
    "    w = 0.4 # half-width of our bars\n",
    "    for v in range(10): # for each possible response...\n",
    "        plt.fill_between([v-w, v+w], [counts[v], counts[v]], color='b')\n",
    "        \n",
    "    # Add a red box on top for my survey\n",
    "    v = int(my_survey[n])\n",
    "    plt.fill_between([v-w, v+w], [counts[v], counts[v]], [counts[v]+1, counts[v]+1], color='r')\n",
    "    \n",
    "    # Format the figure\n",
    "    plt.xlim(-0.7, 9.7)\n",
    "    plt.ylim(0., None)\n",
    "    plt.xlabel(\"Student response\")\n",
    "    plt.ylabel(\"Number of responses\")\n",
    "    plt.xticks(np.arange(10))\n",
    "    plt.title(\"Histogram of student familiarity with \" + name)\n",
    "    plt.tight_layout()\n",
    "    \n",
    "    # Save the figure to disk if a filename is provided\n",
    "    if fig_file is not None:\n",
    "        filepath = figure_dir + fig_file + \".pdf\"\n",
    "        plt.savefig(filepath)\n",
    "    plt.show()\n",
    "    if fig_file is not None:\n",
    "        print(\"Saved histogram as \" + filepath)"
   ]
  },
  {
   "cell_type": "code",
   "execution_count": 13,
   "id": "3527cd1b-b9c3-48af-9634-98f6a81b6cb6",
   "metadata": {},
   "outputs": [
    {
     "data": {
      "image/png": "[encoded data removed]",
      "text/plain": [
       "<Figure size 640x480 with 1 Axes>"
      ]
     },
     "metadata": {},
     "output_type": "display_data"
    }
   ],
   "source": [
    "# Actually read student data\n",
    "student_survey_data = get_numbers_from_all_students(filenames)\n",
    "\n",
    "# Make lambda functions for convenient usage\n",
    "make_fig = lambda x : make_histogram_for(x, names_of_things,\n",
    "                                         student_survey_data,\n",
    "                                         mnw_survey_data,)\n",
    "\n",
    "make_and_save_fig = lambda x : make_histogram_for(x, names_of_things,\n",
    "                                                  student_survey_data,\n",
    "                                                  mnw_survey_data,\n",
    "                                                  x.replace(\" \",\"\") + \"Hist\")\n",
    "\n",
    "make_fig(\"ChatGPT\")"
   ]
  }
 ],
 "metadata": {
  "kernelspec": {
   "display_name": "Python 3 (ipykernel)",
   "language": "python",
   "name": "python3"
  },
  "language_info": {
   "codemirror_mode": {
    "name": "ipython",
    "version": 3
   },
   "file_extension": ".py",
   "mimetype": "text/x-python",
   "name": "python",
   "nbconvert_exporter": "python",
   "pygments_lexer": "ipython3",
   "version": "3.12.7"
  }
 },
 "nbformat": 4,
 "nbformat_minor": 5
}
